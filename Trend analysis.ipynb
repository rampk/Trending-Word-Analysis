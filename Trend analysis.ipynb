{
 "cells": [
  {
   "cell_type": "markdown",
   "metadata": {},
   "source": [
    "## Data understanding"
   ]
  },
  {
   "cell_type": "markdown",
   "metadata": {},
   "source": [
    "All basic and needed Libraries are imported"
   ]
  },
  {
   "cell_type": "code",
   "execution_count": 1,
   "metadata": {},
   "outputs": [],
   "source": [
    "# Importing required libraries\n",
    "import pandas as pd\n",
    "import numpy as np\n",
    "from unidecode import unidecode\n",
    "import re\n",
    "import warnings\n",
    "import time\n",
    "\n",
    "start = time.time()"
   ]
  },
  {
   "cell_type": "markdown",
   "metadata": {},
   "source": [
    "The input file of 705mb is being fed into df_news data frame"
   ]
  },
  {
   "cell_type": "code",
   "execution_count": 2,
   "metadata": {},
   "outputs": [
    {
     "data": {
      "text/html": [
       "<div>\n",
       "<style scoped>\n",
       "    .dataframe tbody tr th:only-of-type {\n",
       "        vertical-align: middle;\n",
       "    }\n",
       "\n",
       "    .dataframe tbody tr th {\n",
       "        vertical-align: top;\n",
       "    }\n",
       "\n",
       "    .dataframe thead th {\n",
       "        text-align: right;\n",
       "    }\n",
       "</style>\n",
       "<table border=\"1\" class=\"dataframe\">\n",
       "  <thead>\n",
       "    <tr style=\"text-align: right;\">\n",
       "      <th></th>\n",
       "      <th>DATE</th>\n",
       "      <th>TIME</th>\n",
       "      <th>UNIQUE_STORY_INDEX</th>\n",
       "      <th>EVENT_TYPE</th>\n",
       "      <th>PNAC</th>\n",
       "      <th>STORY_DATE_TIME</th>\n",
       "      <th>TAKE_DATE_TIME</th>\n",
       "      <th>HEADLINE_ALERT_TEXT</th>\n",
       "      <th>ACCUMULATED_STORY_TEXT</th>\n",
       "      <th>TAKE_TEXT</th>\n",
       "      <th>PRODUCTS</th>\n",
       "      <th>TOPICS</th>\n",
       "      <th>RELATED_RICS</th>\n",
       "      <th>NAMED_ITEMS</th>\n",
       "      <th>HEADLINE_SUBTYPE</th>\n",
       "      <th>STORY_TYPE</th>\n",
       "      <th>TABULAR_FLAG</th>\n",
       "      <th>ATTRIBUTION</th>\n",
       "      <th>LANGUAGE</th>\n",
       "    </tr>\n",
       "  </thead>\n",
       "  <tbody>\n",
       "    <tr>\n",
       "      <th>0</th>\n",
       "      <td>2013-06-01</td>\n",
       "      <td>00:00:00.704</td>\n",
       "      <td>20130601000000nASA05F0W</td>\n",
       "      <td>ALERT</td>\n",
       "      <td>nASA05F0W</td>\n",
       "      <td>2013-06-01 00:00:00</td>\n",
       "      <td>2013-06-01 00:00:00</td>\n",
       "      <td>MERCATOR MINERALS ANNOUNCES SENIOR MANAGEMENT ...</td>\n",
       "      <td>NaN</td>\n",
       "      <td>NaN</td>\n",
       "      <td>E U CAN</td>\n",
       "      <td>MNGISS BACT MET BMAT MIN MINE MTAL CMPNY CA AM...</td>\n",
       "      <td>ML.TO</td>\n",
       "      <td>NaN</td>\n",
       "      <td>NaN</td>\n",
       "      <td>S</td>\n",
       "      <td>False</td>\n",
       "      <td>RTRS</td>\n",
       "      <td>EN</td>\n",
       "    </tr>\n",
       "    <tr>\n",
       "      <th>1</th>\n",
       "      <td>2013-06-01</td>\n",
       "      <td>00:00:00.885</td>\n",
       "      <td>20130601000001nS6N0A8042</td>\n",
       "      <td>ALERT</td>\n",
       "      <td>nS6N0A8042</td>\n",
       "      <td>2013-06-01 00:00:01</td>\n",
       "      <td>2013-06-01 00:00:01</td>\n",
       "      <td>S.KOREA SAYS MAY TRADE BALANCE AT PROVISIONAL ...</td>\n",
       "      <td>NaN</td>\n",
       "      <td>NaN</td>\n",
       "      <td>M D T E C MTL GRO SOF O</td>\n",
       "      <td>EMRG KR MCE ECI NEWS TRD ASIA TRACC LEN RTRS</td>\n",
       "      <td>KRIMGR=ECI KRTBAL=ECI 0#KRCOMP1=KQ KREXGR=ECI ...</td>\n",
       "      <td>NaN</td>\n",
       "      <td>NaN</td>\n",
       "      <td>S</td>\n",
       "      <td>False</td>\n",
       "      <td>RTRS</td>\n",
       "      <td>EN</td>\n",
       "    </tr>\n",
       "    <tr>\n",
       "      <th>2</th>\n",
       "      <td>2013-06-01</td>\n",
       "      <td>00:00:01.052</td>\n",
       "      <td>20130501000000nEAP51Z100</td>\n",
       "      <td>DELETE</td>\n",
       "      <td>nEAP51Z100</td>\n",
       "      <td>2013-05-01 00:00:00</td>\n",
       "      <td>2013-05-01 00:00:00</td>\n",
       "      <td>NaN</td>\n",
       "      <td>NaN</td>\n",
       "      <td>NaN</td>\n",
       "      <td>NaN</td>\n",
       "      <td>NaN</td>\n",
       "      <td>NaN</td>\n",
       "      <td>NaN</td>\n",
       "      <td>NaN</td>\n",
       "      <td>NaN</td>\n",
       "      <td>NaN</td>\n",
       "      <td>NaN</td>\n",
       "      <td>NaN</td>\n",
       "    </tr>\n",
       "    <tr>\n",
       "      <th>3</th>\n",
       "      <td>2013-06-01</td>\n",
       "      <td>00:00:01.052</td>\n",
       "      <td>20130601000000nEAP51Z100</td>\n",
       "      <td>HEADLINE</td>\n",
       "      <td>nEAP51Z100</td>\n",
       "      <td>2013-06-01 00:00:00</td>\n",
       "      <td>2013-06-01 00:00:00</td>\n",
       "      <td>Test, Please Ignore -- EMEA -- 06/01 00:00</td>\n",
       "      <td>NaN</td>\n",
       "      <td>NaN</td>\n",
       "      <td>TEST</td>\n",
       "      <td>AGA LEN RTRS</td>\n",
       "      <td>NaN</td>\n",
       "      <td>NaN</td>\n",
       "      <td>2.0</td>\n",
       "      <td>S</td>\n",
       "      <td>False</td>\n",
       "      <td>RTRS</td>\n",
       "      <td>EN</td>\n",
       "    </tr>\n",
       "    <tr>\n",
       "      <th>4</th>\n",
       "      <td>2013-06-01</td>\n",
       "      <td>00:00:01.055</td>\n",
       "      <td>20130601000000nEAP51Z100</td>\n",
       "      <td>STORY_TAKE_OVERWRITE</td>\n",
       "      <td>nEAP51Z100</td>\n",
       "      <td>2013-06-01 00:00:00</td>\n",
       "      <td>NaN</td>\n",
       "      <td>Test, Please Ignore -- EMEA -- 06/01 00:00</td>\n",
       "      <td>NaN</td>\n",
       "      <td>Test, Please Ignore -- EMEA -- 06/01 00:00</td>\n",
       "      <td>TEST</td>\n",
       "      <td>AGA LEN RTRS</td>\n",
       "      <td>NaN</td>\n",
       "      <td>NaN</td>\n",
       "      <td>NaN</td>\n",
       "      <td>S</td>\n",
       "      <td>False</td>\n",
       "      <td>RTRS</td>\n",
       "      <td>EN</td>\n",
       "    </tr>\n",
       "  </tbody>\n",
       "</table>\n",
       "</div>"
      ],
      "text/plain": [
       "         DATE          TIME        UNIQUE_STORY_INDEX            EVENT_TYPE  \\\n",
       "0  2013-06-01  00:00:00.704   20130601000000nASA05F0W                 ALERT   \n",
       "1  2013-06-01  00:00:00.885  20130601000001nS6N0A8042                 ALERT   \n",
       "2  2013-06-01  00:00:01.052  20130501000000nEAP51Z100                DELETE   \n",
       "3  2013-06-01  00:00:01.052  20130601000000nEAP51Z100              HEADLINE   \n",
       "4  2013-06-01  00:00:01.055  20130601000000nEAP51Z100  STORY_TAKE_OVERWRITE   \n",
       "\n",
       "         PNAC      STORY_DATE_TIME       TAKE_DATE_TIME  \\\n",
       "0   nASA05F0W  2013-06-01 00:00:00  2013-06-01 00:00:00   \n",
       "1  nS6N0A8042  2013-06-01 00:00:01  2013-06-01 00:00:01   \n",
       "2  nEAP51Z100  2013-05-01 00:00:00  2013-05-01 00:00:00   \n",
       "3  nEAP51Z100  2013-06-01 00:00:00  2013-06-01 00:00:00   \n",
       "4  nEAP51Z100  2013-06-01 00:00:00                  NaN   \n",
       "\n",
       "                                 HEADLINE_ALERT_TEXT ACCUMULATED_STORY_TEXT  \\\n",
       "0  MERCATOR MINERALS ANNOUNCES SENIOR MANAGEMENT ...                    NaN   \n",
       "1  S.KOREA SAYS MAY TRADE BALANCE AT PROVISIONAL ...                    NaN   \n",
       "2                                                NaN                    NaN   \n",
       "3         Test, Please Ignore -- EMEA -- 06/01 00:00                    NaN   \n",
       "4         Test, Please Ignore -- EMEA -- 06/01 00:00                    NaN   \n",
       "\n",
       "                                    TAKE_TEXT                 PRODUCTS  \\\n",
       "0                                         NaN                  E U CAN   \n",
       "1                                         NaN  M D T E C MTL GRO SOF O   \n",
       "2                                         NaN                      NaN   \n",
       "3                                         NaN                     TEST   \n",
       "4  Test, Please Ignore -- EMEA -- 06/01 00:00                     TEST   \n",
       "\n",
       "                                              TOPICS  \\\n",
       "0  MNGISS BACT MET BMAT MIN MINE MTAL CMPNY CA AM...   \n",
       "1       EMRG KR MCE ECI NEWS TRD ASIA TRACC LEN RTRS   \n",
       "2                                                NaN   \n",
       "3                                       AGA LEN RTRS   \n",
       "4                                       AGA LEN RTRS   \n",
       "\n",
       "                                        RELATED_RICS NAMED_ITEMS  \\\n",
       "0                                              ML.TO         NaN   \n",
       "1  KRIMGR=ECI KRTBAL=ECI 0#KRCOMP1=KQ KREXGR=ECI ...         NaN   \n",
       "2                                                NaN         NaN   \n",
       "3                                                NaN         NaN   \n",
       "4                                                NaN         NaN   \n",
       "\n",
       "   HEADLINE_SUBTYPE STORY_TYPE TABULAR_FLAG ATTRIBUTION LANGUAGE  \n",
       "0               NaN          S        False        RTRS       EN  \n",
       "1               NaN          S        False        RTRS       EN  \n",
       "2               NaN        NaN          NaN         NaN      NaN  \n",
       "3               2.0          S        False        RTRS       EN  \n",
       "4               NaN          S        False        RTRS       EN  "
      ]
     },
     "execution_count": 2,
     "metadata": {},
     "output_type": "execute_result"
    }
   ],
   "source": [
    "# Reading the csv\n",
    "df_news = pd.read_csv('rna002_RTRS_2013_06.csv')\n",
    "# Analaysing the top rows\n",
    "df_news.head()"
   ]
  },
  {
   "cell_type": "markdown",
   "metadata": {},
   "source": [
    "There are about 421993 entries overall with missing data in few columns."
   ]
  },
  {
   "cell_type": "code",
   "execution_count": 3,
   "metadata": {},
   "outputs": [
    {
     "name": "stdout",
     "output_type": "stream",
     "text": [
      "<class 'pandas.core.frame.DataFrame'>\n",
      "RangeIndex: 421993 entries, 0 to 421992\n",
      "Data columns (total 19 columns):\n",
      " #   Column                  Non-Null Count   Dtype  \n",
      "---  ------                  --------------   -----  \n",
      " 0   DATE                    421993 non-null  object \n",
      " 1   TIME                    421993 non-null  object \n",
      " 2   UNIQUE_STORY_INDEX      421993 non-null  object \n",
      " 3   EVENT_TYPE              421993 non-null  object \n",
      " 4   PNAC                    421993 non-null  object \n",
      " 5   STORY_DATE_TIME         421993 non-null  object \n",
      " 6   TAKE_DATE_TIME          250616 non-null  object \n",
      " 7   HEADLINE_ALERT_TEXT     378840 non-null  object \n",
      " 8   ACCUMULATED_STORY_TEXT  17699 non-null   object \n",
      " 9   TAKE_TEXT               171372 non-null  object \n",
      " 10  PRODUCTS                379255 non-null  object \n",
      " 11  TOPICS                  379255 non-null  object \n",
      " 12  RELATED_RICS            151626 non-null  object \n",
      " 13  NAMED_ITEMS             102028 non-null  object \n",
      " 14  HEADLINE_SUBTYPE        155596 non-null  float64\n",
      " 15  STORY_TYPE              379255 non-null  object \n",
      " 16  TABULAR_FLAG            379255 non-null  object \n",
      " 17  ATTRIBUTION             379255 non-null  object \n",
      " 18  LANGUAGE                379255 non-null  object \n",
      "dtypes: float64(1), object(18)\n",
      "memory usage: 61.2+ MB\n"
     ]
    }
   ],
   "source": [
    "# Checking the datatypes and null values\n",
    "df_news.info()"
   ]
  },
  {
   "cell_type": "markdown",
   "metadata": {},
   "source": [
    "> All columns are of Object Data type and with heading_subtype alone is of float. HEADLINE_ALERT_TEXT, ACCUMULATED_STORY_TEXT, TAKE_TEXT has most of the content that needs to be analyzed for Trending Keywords."
   ]
  },
  {
   "cell_type": "markdown",
   "metadata": {},
   "source": [
    "## Data Cleaning"
   ]
  },
  {
   "cell_type": "markdown",
   "metadata": {},
   "source": [
    "Formatting the DATE and TIME to the right data type."
   ]
  },
  {
   "cell_type": "code",
   "execution_count": 4,
   "metadata": {},
   "outputs": [],
   "source": [
    "# Converting date and time to datetime datatype\n",
    "df_news['DATE'] = pd.to_datetime(df_news['DATE'])\n",
    "df_news['TIME'] = pd.to_datetime(df_news['TIME'])"
   ]
  },
  {
   "cell_type": "markdown",
   "metadata": {},
   "source": [
    "Based on the DATE and TIME we have dropped Duplicates by sorting the Data frame with Sorted DATE, TIME and keeping the last entry alone"
   ]
  },
  {
   "cell_type": "code",
   "execution_count": 5,
   "metadata": {},
   "outputs": [
    {
     "name": "stdout",
     "output_type": "stream",
     "text": [
      "There was 421993 records, and now 169810 records\n"
     ]
    }
   ],
   "source": [
    "initial_shape = df_news.shape\n",
    "# Removing the previous records for the updated data\n",
    "df_news = df_news.sort_values(['DATE','TIME']).drop_duplicates(['UNIQUE_STORY_INDEX'],keep='last')\n",
    "updated_shape = df_news.shape\n",
    "print(f'There was {initial_shape[0]} records, and now {updated_shape[0]} records')"
   ]
  },
  {
   "cell_type": "markdown",
   "metadata": {},
   "source": [
    "> Out of 421993 records 169810 unique records remain back."
   ]
  },
  {
   "cell_type": "markdown",
   "metadata": {},
   "source": [
    "Test products are mentioned in PRODUCT column with the tag as TEST and HEADLINE_ALERT_TEXT to be \"Please Ignore\" hence here we are dropping those from consideration."
   ]
  },
  {
   "cell_type": "code",
   "execution_count": 6,
   "metadata": {},
   "outputs": [
    {
     "name": "stdout",
     "output_type": "stream",
     "text": [
      "There was 169810 records, and now 164186 records\n"
     ]
    }
   ],
   "source": [
    "# Removing test products\n",
    "initial_shape = df_news.shape\n",
    "df_news = df_news[df_news['PRODUCTS'] != 'TEST']\n",
    "updated_shape = df_news.shape\n",
    "print(f'There was {initial_shape[0]} records, and now {updated_shape[0]} records')"
   ]
  },
  {
   "cell_type": "markdown",
   "metadata": {},
   "source": [
    "EVENT_TYPE mentioned as DELETE has not been considered further."
   ]
  },
  {
   "cell_type": "code",
   "execution_count": 7,
   "metadata": {},
   "outputs": [
    {
     "name": "stdout",
     "output_type": "stream",
     "text": [
      "There was 164186 records, and now 121494 records\n"
     ]
    }
   ],
   "source": [
    "# Removing event_type delete\n",
    "initial_shape = df_news.shape\n",
    "df_news = df_news[df_news['EVENT_TYPE'] != 'DELETE']\n",
    "updated_shape = df_news.shape\n",
    "print(f'There was {initial_shape[0]} records, and now {updated_shape[0]} records')"
   ]
  },
  {
   "cell_type": "markdown",
   "metadata": {},
   "source": [
    "> 121494 remain back after omitting records that have explicitly mentioned DELETE."
   ]
  },
  {
   "cell_type": "markdown",
   "metadata": {},
   "source": [
    "The overall counts of each language are found using the Column value LANGUAGE."
   ]
  },
  {
   "cell_type": "code",
   "execution_count": 8,
   "metadata": {},
   "outputs": [
    {
     "data": {
      "text/plain": [
       "EN    0.538109\n",
       "ES    0.057723\n",
       "ZH    0.057172\n",
       "JA    0.056176\n",
       "AR    0.045064\n",
       "FR    0.039870\n",
       "PT    0.038627\n",
       "DE    0.036018\n",
       "TH    0.031392\n",
       "RU    0.021178\n",
       "KO    0.020528\n",
       "IT    0.019614\n",
       "TR    0.010330\n",
       "PL    0.009581\n",
       "NO    0.004725\n",
       "DA    0.004404\n",
       "SV    0.004198\n",
       "EL    0.003012\n",
       "CS    0.002222\n",
       "FI    0.000033\n",
       "BG    0.000016\n",
       "NL    0.000008\n",
       "Name: LANGUAGE, dtype: float64"
      ]
     },
     "execution_count": 8,
     "metadata": {},
     "output_type": "execute_result"
    }
   ],
   "source": [
    "df_news.LANGUAGE.value_counts()/len(df_news)"
   ]
  },
  {
   "cell_type": "markdown",
   "metadata": {},
   "source": [
    "We could see that English constitutes towards 53% of data and we are proceeding with English language alone."
   ]
  },
  {
   "cell_type": "markdown",
   "metadata": {},
   "source": [
    "> 65377 records belong to English Language."
   ]
  },
  {
   "cell_type": "code",
   "execution_count": 9,
   "metadata": {},
   "outputs": [
    {
     "name": "stdout",
     "output_type": "stream",
     "text": [
      "There was 121494 records, and now 65377 records\n"
     ]
    }
   ],
   "source": [
    "initial_shape = df_news.shape\n",
    "df_news = df_news[df_news['LANGUAGE'] == 'EN']\n",
    "updated_shape = df_news.shape\n",
    "print(f'There was {initial_shape[0]} records, and now {updated_shape[0]} records')"
   ]
  },
  {
   "cell_type": "markdown",
   "metadata": {},
   "source": [
    "Once almost all Data Cleaning is done the end Data frame"
   ]
  },
  {
   "cell_type": "code",
   "execution_count": 10,
   "metadata": {},
   "outputs": [
    {
     "name": "stdout",
     "output_type": "stream",
     "text": [
      "<class 'pandas.core.frame.DataFrame'>\n",
      "Int64Index: 65377 entries, 0 to 421992\n",
      "Data columns (total 19 columns):\n",
      " #   Column                  Non-Null Count  Dtype         \n",
      "---  ------                  --------------  -----         \n",
      " 0   DATE                    65377 non-null  datetime64[ns]\n",
      " 1   TIME                    65377 non-null  datetime64[ns]\n",
      " 2   UNIQUE_STORY_INDEX      65377 non-null  object        \n",
      " 3   EVENT_TYPE              65377 non-null  object        \n",
      " 4   PNAC                    65377 non-null  object        \n",
      " 5   STORY_DATE_TIME         65377 non-null  object        \n",
      " 6   TAKE_DATE_TIME          5088 non-null   object        \n",
      " 7   HEADLINE_ALERT_TEXT     65375 non-null  object        \n",
      " 8   ACCUMULATED_STORY_TEXT  4488 non-null   object        \n",
      " 9   TAKE_TEXT               60288 non-null  object        \n",
      " 10  PRODUCTS                65377 non-null  object        \n",
      " 11  TOPICS                  65377 non-null  object        \n",
      " 12  RELATED_RICS            33312 non-null  object        \n",
      " 13  NAMED_ITEMS             14224 non-null  object        \n",
      " 14  HEADLINE_SUBTYPE        356 non-null    float64       \n",
      " 15  STORY_TYPE              65377 non-null  object        \n",
      " 16  TABULAR_FLAG            65377 non-null  object        \n",
      " 17  ATTRIBUTION             65377 non-null  object        \n",
      " 18  LANGUAGE                65377 non-null  object        \n",
      "dtypes: datetime64[ns](2), float64(1), object(16)\n",
      "memory usage: 10.0+ MB\n"
     ]
    }
   ],
   "source": [
    "df_news.info()"
   ]
  },
  {
   "cell_type": "code",
   "execution_count": 11,
   "metadata": {},
   "outputs": [
    {
     "data": {
      "text/plain": [
       "82073        June 6 (Reuters) - Concurrent Computer Cor...\n",
       "87756        Jun 7 (Reuters)-  \\n             Sumco Cor...\n",
       "Name: TAKE_TEXT, dtype: object"
      ]
     },
     "execution_count": 11,
     "metadata": {},
     "output_type": "execute_result"
    }
   ],
   "source": [
    "df_news[df_news.HEADLINE_ALERT_TEXT.isnull()]['TAKE_TEXT']"
   ]
  },
  {
   "cell_type": "markdown",
   "metadata": {},
   "source": [
    "Since the Data cleaning ends above, we are resetting the Index so that the Index remains consistent and dependable"
   ]
  },
  {
   "cell_type": "code",
   "execution_count": 12,
   "metadata": {},
   "outputs": [],
   "source": [
    "df_news.reset_index(drop=True,inplace=True)"
   ]
  },
  {
   "cell_type": "markdown",
   "metadata": {},
   "source": [
    "## Data Preprocessing"
   ]
  },
  {
   "cell_type": "markdown",
   "metadata": {},
   "source": [
    "Here the data frame is sent into various Built-in and manually defined functions and the data is being preprocessed to endure better performance."
   ]
  },
  {
   "cell_type": "code",
   "execution_count": 13,
   "metadata": {},
   "outputs": [],
   "source": [
    "def combine(df):\n",
    "    news = \"\"\n",
    "\n",
    "    if str(df['HEADLINE_ALERT_TEXT']) != 'nan':\n",
    "        news += df['HEADLINE_ALERT_TEXT']\n",
    "  \n",
    "    if str(df['ACCUMULATED_STORY_TEXT']) != 'nan':\n",
    "        news += df['ACCUMULATED_STORY_TEXT']\n",
    "\n",
    "    if str(df['TAKE_TEXT']) != 'nan':\n",
    "        news += df['TAKE_TEXT']\n",
    "        \n",
    "    return news\n",
    "        \n",
    "\n",
    "df_news['NEWS'] = df_news.apply(combine,axis=1)"
   ]
  },
  {
   "cell_type": "markdown",
   "metadata": {},
   "source": [
    "All three Columns that constitute of most News data is being combined into a single column for Trend Analysis."
   ]
  },
  {
   "cell_type": "markdown",
   "metadata": {},
   "source": [
    "> Since when a csv file is converted into a data frame the empty cells are filled with Null values hence while combining the data into one column we are considering only the columns that has value/data in them."
   ]
  },
  {
   "cell_type": "markdown",
   "metadata": {},
   "source": [
    "The combined column from above NEWS is checked whether all characters in them are ascii values and count of non-ascii values are printed out."
   ]
  },
  {
   "cell_type": "code",
   "execution_count": 14,
   "metadata": {},
   "outputs": [
    {
     "name": "stdout",
     "output_type": "stream",
     "text": [
      "There are 4713 non-ascii records\n"
     ]
    }
   ],
   "source": [
    "def is_ascii(s):\n",
    "    return all(ord(c) < 128 for c in s)\n",
    "ascii_records = df_news['NEWS'].apply(is_ascii).sum()\n",
    "print(f'There are {updated_shape[0] - ascii_records} non-ascii records')"
   ]
  },
  {
   "cell_type": "markdown",
   "metadata": {},
   "source": [
    "Using Uniencode library all news values have been converted into its Correct ASCII values."
   ]
  },
  {
   "cell_type": "code",
   "execution_count": 15,
   "metadata": {},
   "outputs": [],
   "source": [
    "# Converting non-ascii \n",
    "def transform_nonascii(text):\n",
    "    #return ''.join(char for char in text if ord(char) < 128)\n",
    "    return unidecode(text)\n",
    "\n",
    "df_news['NEWS'] = df_news['NEWS'].apply(transform_nonascii)"
   ]
  },
  {
   "cell_type": "markdown",
   "metadata": {},
   "source": [
    "Numeric information from NEWS has been removed by following code. This is done be replacing them with empty character. Regular expressions are used here for formatting with ease."
   ]
  },
  {
   "cell_type": "code",
   "execution_count": 16,
   "metadata": {},
   "outputs": [],
   "source": [
    "# Removing numbers\n",
    "def remove_numbers(text):\n",
    "    return re.sub(r'[0-9]+', '', text)\n",
    "    \n",
    "df_news['NEWS'] = df_news['NEWS'].apply(remove_numbers)"
   ]
  },
  {
   "cell_type": "markdown",
   "metadata": {},
   "source": [
    "Using Regular Expression slashes(“\\”) are replaced with empty string."
   ]
  },
  {
   "cell_type": "code",
   "execution_count": 17,
   "metadata": {},
   "outputs": [],
   "source": [
    "# Removing slashes\n",
    "def remove_slash(text):\n",
    "    return re.sub(r'[\\n,\\b,\\t]', '', text)\n",
    "    \n",
    "df_news['NEWS'] = df_news['NEWS'].apply(remove_slash)"
   ]
  },
  {
   "cell_type": "markdown",
   "metadata": {},
   "source": [
    "Non alpha numeric characters are removed."
   ]
  },
  {
   "cell_type": "code",
   "execution_count": 18,
   "metadata": {},
   "outputs": [],
   "source": [
    "# Removing non-alphanumerics:\n",
    "def remove_nonalpha(text):\n",
    "    text = re.sub(r'[^\\w]', ' ', text)\n",
    "    text = re.sub(r'_', '', text)\n",
    "    return text\n",
    "\n",
    "df_news['NEWS'] = df_news['NEWS'].apply(remove_nonalpha)"
   ]
  },
  {
   "cell_type": "markdown",
   "metadata": {},
   "source": [
    "All extra spaces more than one are replaced with single white spaces."
   ]
  },
  {
   "cell_type": "code",
   "execution_count": 19,
   "metadata": {},
   "outputs": [],
   "source": [
    "# Unwanted spaces:\n",
    "def remove_space(text):\n",
    "    return re.sub(' +', ' ', text)\n",
    "\n",
    "df_news['NEWS'] = df_news['NEWS'].apply(remove_space)"
   ]
  },
  {
   "cell_type": "markdown",
   "metadata": {},
   "source": [
    "Inorder to make the process of analyzing the trend with ease and less ambiguity, all data in NEWS has been converted to Lower case."
   ]
  },
  {
   "cell_type": "code",
   "execution_count": 20,
   "metadata": {},
   "outputs": [],
   "source": [
    "# to lower\n",
    "df_news['NEWS'] = df_news['NEWS'].str.lower()"
   ]
  },
  {
   "cell_type": "markdown",
   "metadata": {},
   "source": [
    "## Word count calculator"
   ]
  },
  {
   "cell_type": "markdown",
   "metadata": {},
   "source": [
    "In this section we will be using TfidfVectorizer, Spacy, stopwords to create a method that check the data for trending words."
   ]
  },
  {
   "cell_type": "markdown",
   "metadata": {},
   "source": [
    "Packages and Libraries needed for this section."
   ]
  },
  {
   "cell_type": "code",
   "execution_count": 21,
   "metadata": {},
   "outputs": [],
   "source": [
    "import spacy\n",
    "from nltk.corpus import stopwords\n",
    "import string\n",
    "from sklearn.feature_extraction.text import TfidfVectorizer"
   ]
  },
  {
   "cell_type": "markdown",
   "metadata": {},
   "source": [
    "'en_core_web_sm' is a small English model trained on written web text (blogs, news, comments), that includes vocabulary, vectors, syntax and entities. For more reference you can go to the official documentation, https://spacy.io/models"
   ]
  },
  {
   "cell_type": "markdown",
   "metadata": {},
   "source": [
    "> There are default set of Stop words available already for English language and we are using them, we can also add new words based on the context, for Example News might contain information like month name and here in our context we are including the months as stop words as they remain common in many headlines and degrade the value of this analysis. Generally additional stop words are identified after first run and verified by Domain experts to include or exclude them."
   ]
  },
  {
   "cell_type": "markdown",
   "metadata": {},
   "source": [
    "The ‘trending’ function takes care of the analysis part and plays the brain of this process. Here we are using TfidfVectorizer to find the relationship between words. TfidfVectorizer - Transforms text to feature vectors that can be used as input to estimator. "
   ]
  },
  {
   "cell_type": "code",
   "execution_count": 22,
   "metadata": {},
   "outputs": [],
   "source": [
    "nlp = spacy.load('en')\n",
    "stop_words = set(stopwords.words('english'))\n",
    "lower_case = set([_ for _ in string.ascii_lowercase])\n",
    "STOP_WORDS = stop_words.union(lower_case)\n",
    "STOP_WORDS = STOP_WORDS.union({'reuter','reuters','thomsonreuters','day', 'jan', 'feb', 'mar', 'apr', 'jun', 'jul','june','aug',\n",
    "                               'market', 'may','price', 'rate', 'rating', 'would', 'year','say','take','ahead','bank','report', \n",
    "                               'sell', 'ahead', 'com'})"
   ]
  },
  {
   "cell_type": "markdown",
   "metadata": {},
   "source": [
    "> After analyzing the initial run of trend analysis, we have added few trending word that doesn't make sense as trending words. It's an iterative task."
   ]
  },
  {
   "cell_type": "code",
   "execution_count": 23,
   "metadata": {},
   "outputs": [],
   "source": [
    "def trending(news,max_feature=10,n_grams=1):\n",
    "    \n",
    "    def remove_stop(text):\n",
    "        my_doc = nlp(text)\n",
    "        \n",
    "        token_list = []\n",
    "        for token in my_doc:\n",
    "            token_list.append(token.text)\n",
    "          \n",
    "        vector_list = []\n",
    "        for token in token_list:\n",
    "            if token not in STOP_WORDS:\n",
    "                vector_list.append(token)\n",
    "            \n",
    "        return \" \".join(vector_list)\n",
    "       \n",
    "    news = [remove_stop(text) for text in news]\n",
    "        \n",
    "    def lemmatizer(text):\n",
    "        return [word.lemma_ for word in nlp(text)]\n",
    "    \n",
    "    vectorizing = TfidfVectorizer(max_features=max_feature,\n",
    "                                 tokenizer=lemmatizer,ngram_range=(1,n_grams))\n",
    "    vectorizing.fit_transform(news)\n",
    "    return vectorizing.get_feature_names()"
   ]
  },
  {
   "cell_type": "markdown",
   "metadata": {},
   "source": [
    "## Analyzing the trend"
   ]
  },
  {
   "cell_type": "markdown",
   "metadata": {},
   "source": [
    "Here in this section we are analyzing the trend in four major areas/spectrums."
   ]
  },
  {
   "cell_type": "markdown",
   "metadata": {},
   "source": [
    "### Trend by day"
   ]
  },
  {
   "cell_type": "markdown",
   "metadata": {},
   "source": [
    "Gives you the trending words of each day of the month."
   ]
  },
  {
   "cell_type": "code",
   "execution_count": 24,
   "metadata": {},
   "outputs": [
    {
     "data": {
      "text/plain": [
       "array(['2013-06-01T00:00:00.000000000', '2013-06-02T00:00:00.000000000',\n",
       "       '2013-06-03T00:00:00.000000000', '2013-06-04T00:00:00.000000000',\n",
       "       '2013-06-05T00:00:00.000000000', '2013-06-06T00:00:00.000000000',\n",
       "       '2013-06-07T00:00:00.000000000', '2013-06-08T00:00:00.000000000',\n",
       "       '2013-06-09T00:00:00.000000000', '2013-06-10T00:00:00.000000000',\n",
       "       '2013-06-11T00:00:00.000000000', '2013-06-12T00:00:00.000000000',\n",
       "       '2013-06-13T00:00:00.000000000', '2013-06-14T00:00:00.000000000',\n",
       "       '2013-06-15T00:00:00.000000000', '2013-06-16T00:00:00.000000000',\n",
       "       '2013-06-17T00:00:00.000000000', '2013-06-18T00:00:00.000000000',\n",
       "       '2013-06-19T00:00:00.000000000', '2013-06-20T00:00:00.000000000',\n",
       "       '2013-06-21T00:00:00.000000000', '2013-06-22T00:00:00.000000000',\n",
       "       '2013-06-23T00:00:00.000000000', '2013-06-24T00:00:00.000000000',\n",
       "       '2013-06-25T00:00:00.000000000', '2013-06-26T00:00:00.000000000',\n",
       "       '2013-06-27T00:00:00.000000000', '2013-06-28T00:00:00.000000000',\n",
       "       '2013-06-29T00:00:00.000000000', '2013-06-30T00:00:00.000000000'],\n",
       "      dtype='datetime64[ns]')"
      ]
     },
     "execution_count": 24,
     "metadata": {},
     "output_type": "execute_result"
    }
   ],
   "source": [
    "df_news['DATE'].unique()"
   ]
  },
  {
   "cell_type": "markdown",
   "metadata": {},
   "source": [
    "Function to combine all the passed text into a single line and return back the same"
   ]
  },
  {
   "cell_type": "code",
   "execution_count": 25,
   "metadata": {},
   "outputs": [],
   "source": [
    "def combine_text(text):\n",
    "    add_text = []\n",
    "    for line in text:\n",
    "        add_text.append(line)\n",
    "        \n",
    "    return add_text"
   ]
  },
  {
   "cell_type": "markdown",
   "metadata": {},
   "source": [
    "Segregating the numeric date part alone from date format"
   ]
  },
  {
   "cell_type": "code",
   "execution_count": 26,
   "metadata": {},
   "outputs": [],
   "source": [
    "# Checking the trend for each day\n",
    "df_news['DAY_OF_MONTH'] = df_news['DATE'].apply(lambda x: str(x).split('-')[2].split()[0])\n",
    "\n",
    "df_days = pd.DataFrame(df_news.groupby(['DAY_OF_MONTH'])['NEWS'].apply(combine_text))"
   ]
  },
  {
   "cell_type": "markdown",
   "metadata": {},
   "source": [
    "Calling the trending function to look for the most trending news that day"
   ]
  },
  {
   "cell_type": "code",
   "execution_count": 27,
   "metadata": {},
   "outputs": [],
   "source": [
    "df_days_trending = df_days['NEWS'].apply(lambda x: trending(x,20,1))"
   ]
  },
  {
   "cell_type": "markdown",
   "metadata": {},
   "source": [
    "Writing the output into a csv file"
   ]
  },
  {
   "cell_type": "code",
   "execution_count": 28,
   "metadata": {},
   "outputs": [],
   "source": [
    "df_days_trending = pd.DataFrame(df_days_trending).reset_index()\n",
    "df_days_trending.to_csv('Day_wise_trend.csv')"
   ]
  },
  {
   "cell_type": "code",
   "execution_count": 29,
   "metadata": {},
   "outputs": [
    {
     "data": {
      "text/html": [
       "<div>\n",
       "<style scoped>\n",
       "    .dataframe tbody tr th:only-of-type {\n",
       "        vertical-align: middle;\n",
       "    }\n",
       "\n",
       "    .dataframe tbody tr th {\n",
       "        vertical-align: top;\n",
       "    }\n",
       "\n",
       "    .dataframe thead th {\n",
       "        text-align: right;\n",
       "    }\n",
       "</style>\n",
       "<table border=\"1\" class=\"dataframe\">\n",
       "  <thead>\n",
       "    <tr style=\"text-align: right;\">\n",
       "      <th></th>\n",
       "      <th>DAY_OF_MONTH</th>\n",
       "      <th>NEWS</th>\n",
       "    </tr>\n",
       "  </thead>\n",
       "  <tbody>\n",
       "    <tr>\n",
       "      <th>0</th>\n",
       "      <td>01</td>\n",
       "      <td>[editing, first, keywords, last, net, new, nil...</td>\n",
       "    </tr>\n",
       "    <tr>\n",
       "      <th>1</th>\n",
       "      <td>02</td>\n",
       "      <td>[also, china, editing, first, government, keyw...</td>\n",
       "    </tr>\n",
       "    <tr>\n",
       "      <th>2</th>\n",
       "      <td>03</td>\n",
       "      <td>[baseload, bond, click, company, gaspool, high...</td>\n",
       "    </tr>\n",
       "    <tr>\n",
       "      <th>3</th>\n",
       "      <td>04</td>\n",
       "      <td>[bond, click, company, gaspool, high, inc, inc...</td>\n",
       "    </tr>\n",
       "    <tr>\n",
       "      <th>4</th>\n",
       "      <td>05</td>\n",
       "      <td>[baseload, bond, click, company, gaspool, high...</td>\n",
       "    </tr>\n",
       "  </tbody>\n",
       "</table>\n",
       "</div>"
      ],
      "text/plain": [
       "  DAY_OF_MONTH                                               NEWS\n",
       "0           01  [editing, first, keywords, last, net, new, nil...\n",
       "1           02  [also, china, editing, first, government, keyw...\n",
       "2           03  [baseload, bond, click, company, gaspool, high...\n",
       "3           04  [bond, click, company, gaspool, high, inc, inc...\n",
       "4           05  [baseload, bond, click, company, gaspool, high..."
      ]
     },
     "execution_count": 29,
     "metadata": {},
     "output_type": "execute_result"
    }
   ],
   "source": [
    "df_days_trending.head()"
   ]
  },
  {
   "cell_type": "markdown",
   "metadata": {},
   "source": [
    "### Trend by Weekday"
   ]
  },
  {
   "cell_type": "markdown",
   "metadata": {},
   "source": [
    "Here the trend is identified on each day instead on the date. For example which topics/news got trended on Monday, likewise for each day?"
   ]
  },
  {
   "cell_type": "code",
   "execution_count": 30,
   "metadata": {},
   "outputs": [],
   "source": [
    "# Checking the trend for day of the week\n",
    "df_news['DAY_OF_WEEK'] = df_news['DATE'].apply(lambda x: x.weekday())\n",
    "\n",
    "df_weekdays = pd.DataFrame(df_news.groupby(['DAY_OF_WEEK'])['NEWS'].apply(combine_text))"
   ]
  },
  {
   "cell_type": "code",
   "execution_count": 31,
   "metadata": {},
   "outputs": [],
   "source": [
    "df_weekdays_trending = df_weekdays['NEWS'].apply(lambda x: trending(x,20,1))"
   ]
  },
  {
   "cell_type": "code",
   "execution_count": 32,
   "metadata": {},
   "outputs": [],
   "source": [
    "df_weekdays_trending = pd.DataFrame(df_weekdays_trending).reset_index()\n",
    "df_weekdays_trending.to_csv('WeekDay_wise_trend.csv')"
   ]
  },
  {
   "cell_type": "code",
   "execution_count": 33,
   "metadata": {},
   "outputs": [
    {
     "data": {
      "text/html": [
       "<div>\n",
       "<style scoped>\n",
       "    .dataframe tbody tr th:only-of-type {\n",
       "        vertical-align: middle;\n",
       "    }\n",
       "\n",
       "    .dataframe tbody tr th {\n",
       "        vertical-align: top;\n",
       "    }\n",
       "\n",
       "    .dataframe thead th {\n",
       "        text-align: right;\n",
       "    }\n",
       "</style>\n",
       "<table border=\"1\" class=\"dataframe\">\n",
       "  <thead>\n",
       "    <tr style=\"text-align: right;\">\n",
       "      <th></th>\n",
       "      <th>DAY_OF_WEEK</th>\n",
       "      <th>NEWS</th>\n",
       "    </tr>\n",
       "  </thead>\n",
       "  <tbody>\n",
       "    <tr>\n",
       "      <th>0</th>\n",
       "      <td>0</td>\n",
       "      <td>[baseload, buy, click, company, gaspool, high,...</td>\n",
       "    </tr>\n",
       "    <tr>\n",
       "      <th>1</th>\n",
       "      <td>1</td>\n",
       "      <td>[bond, buy, click, company, gaspool, high, jul...</td>\n",
       "    </tr>\n",
       "    <tr>\n",
       "      <th>2</th>\n",
       "      <td>2</td>\n",
       "      <td>[baseload, bond, click, company, high, july, k...</td>\n",
       "    </tr>\n",
       "    <tr>\n",
       "      <th>3</th>\n",
       "      <td>3</td>\n",
       "      <td>[baseload, bond, click, company, gaspool, high...</td>\n",
       "    </tr>\n",
       "    <tr>\n",
       "      <th>4</th>\n",
       "      <td>4</td>\n",
       "      <td>[bond, buy, click, company, friday, gaspool, j...</td>\n",
       "    </tr>\n",
       "  </tbody>\n",
       "</table>\n",
       "</div>"
      ],
      "text/plain": [
       "   DAY_OF_WEEK                                               NEWS\n",
       "0            0  [baseload, buy, click, company, gaspool, high,...\n",
       "1            1  [bond, buy, click, company, gaspool, high, jul...\n",
       "2            2  [baseload, bond, click, company, high, july, k...\n",
       "3            3  [baseload, bond, click, company, gaspool, high...\n",
       "4            4  [bond, buy, click, company, friday, gaspool, j..."
      ]
     },
     "execution_count": 33,
     "metadata": {},
     "output_type": "execute_result"
    }
   ],
   "source": [
    "# In python week Monday starts with 0\n",
    "df_weekdays_trending.head()"
   ]
  },
  {
   "cell_type": "markdown",
   "metadata": {},
   "source": [
    "### Trend by Week"
   ]
  },
  {
   "cell_type": "markdown",
   "metadata": {},
   "source": [
    "This provides a list of trending news/topic on that week, we can get 4 weeks of data."
   ]
  },
  {
   "attachments": {
    "image.png": {
     "image/png": "[encoded data removed]"
    }
   },
   "cell_type": "markdown",
   "metadata": {},
   "source": [
    "![image.png](attachment:image.png)"
   ]
  },
  {
   "cell_type": "code",
   "execution_count": 34,
   "metadata": {},
   "outputs": [],
   "source": [
    "def week_no(day):\n",
    "    #considering 1,2 as week 1\n",
    "    day = int(day)\n",
    "    if day <10:\n",
    "        return 1\n",
    "    elif day >=10 and day <17:\n",
    "        return 2\n",
    "    elif day >=17 and day <24:\n",
    "        return 3\n",
    "    else:\n",
    "        return 4"
   ]
  },
  {
   "cell_type": "code",
   "execution_count": 35,
   "metadata": {},
   "outputs": [],
   "source": [
    "# Checking the trend for the week\n",
    "df_news['WEEK'] = df_news['DAY_OF_MONTH'].apply(week_no)\n",
    "\n",
    "df_weeks = pd.DataFrame(df_news.groupby(['WEEK'])['NEWS'].apply(combine_text))"
   ]
  },
  {
   "cell_type": "code",
   "execution_count": 36,
   "metadata": {},
   "outputs": [],
   "source": [
    "df_week_trending = df_weeks['NEWS'].apply(lambda x: trending(x,20,1))"
   ]
  },
  {
   "cell_type": "code",
   "execution_count": 37,
   "metadata": {},
   "outputs": [],
   "source": [
    "df_week_trending = pd.DataFrame(df_week_trending).reset_index()\n",
    "df_week_trending.to_csv('Week_wise_trend.csv')"
   ]
  },
  {
   "cell_type": "code",
   "execution_count": 38,
   "metadata": {},
   "outputs": [
    {
     "data": {
      "text/html": [
       "<div>\n",
       "<style scoped>\n",
       "    .dataframe tbody tr th:only-of-type {\n",
       "        vertical-align: middle;\n",
       "    }\n",
       "\n",
       "    .dataframe tbody tr th {\n",
       "        vertical-align: top;\n",
       "    }\n",
       "\n",
       "    .dataframe thead th {\n",
       "        text-align: right;\n",
       "    }\n",
       "</style>\n",
       "<table border=\"1\" class=\"dataframe\">\n",
       "  <thead>\n",
       "    <tr style=\"text-align: right;\">\n",
       "      <th></th>\n",
       "      <th>WEEK</th>\n",
       "      <th>NEWS</th>\n",
       "    </tr>\n",
       "  </thead>\n",
       "  <tbody>\n",
       "    <tr>\n",
       "      <th>0</th>\n",
       "      <td>1</td>\n",
       "      <td>[baseload, bond, click, company, gaspool, high...</td>\n",
       "    </tr>\n",
       "    <tr>\n",
       "      <th>1</th>\n",
       "      <td>2</td>\n",
       "      <td>[baseload, bond, click, company, gaspool, high...</td>\n",
       "    </tr>\n",
       "    <tr>\n",
       "      <th>2</th>\n",
       "      <td>3</td>\n",
       "      <td>[baseload, bond, buy, click, company, dec, gas...</td>\n",
       "    </tr>\n",
       "    <tr>\n",
       "      <th>3</th>\n",
       "      <td>4</td>\n",
       "      <td>[bond, buy, click, company, gaspool, high, jul...</td>\n",
       "    </tr>\n",
       "  </tbody>\n",
       "</table>\n",
       "</div>"
      ],
      "text/plain": [
       "   WEEK                                               NEWS\n",
       "0     1  [baseload, bond, click, company, gaspool, high...\n",
       "1     2  [baseload, bond, click, company, gaspool, high...\n",
       "2     3  [baseload, bond, buy, click, company, dec, gas...\n",
       "3     4  [bond, buy, click, company, gaspool, high, jul..."
      ]
     },
     "execution_count": 38,
     "metadata": {},
     "output_type": "execute_result"
    }
   ],
   "source": [
    "df_week_trending.head()"
   ]
  },
  {
   "cell_type": "markdown",
   "metadata": {},
   "source": [
    "### Trend by Month (Overall Trend)"
   ]
  },
  {
   "cell_type": "markdown",
   "metadata": {},
   "source": [
    "In this dataset we have more than 700mb of data and this gives the trending words for the entire dataset. In this case the data is spread over June 2013 hence all trending news from june are showcased here and file is created for the same."
   ]
  },
  {
   "cell_type": "code",
   "execution_count": 39,
   "metadata": {},
   "outputs": [],
   "source": [
    "df_news['month'] = 'June'\n",
    "df_month = pd.DataFrame(df_news.groupby(['month'])['NEWS'].apply(combine_text))"
   ]
  },
  {
   "cell_type": "code",
   "execution_count": 40,
   "metadata": {},
   "outputs": [],
   "source": [
    "df_month_trending = df_month['NEWS'].apply(lambda x: trending(x,20,1))"
   ]
  },
  {
   "cell_type": "code",
   "execution_count": 41,
   "metadata": {},
   "outputs": [],
   "source": [
    "df_month_trending = pd.DataFrame(df_month_trending).reset_index()\n",
    "df_month_trending.to_csv('overall_trend.csv')"
   ]
  },
  {
   "cell_type": "code",
   "execution_count": 42,
   "metadata": {},
   "outputs": [
    {
     "data": {
      "text/html": [
       "<div>\n",
       "<style scoped>\n",
       "    .dataframe tbody tr th:only-of-type {\n",
       "        vertical-align: middle;\n",
       "    }\n",
       "\n",
       "    .dataframe tbody tr th {\n",
       "        vertical-align: top;\n",
       "    }\n",
       "\n",
       "    .dataframe thead th {\n",
       "        text-align: right;\n",
       "    }\n",
       "</style>\n",
       "<table border=\"1\" class=\"dataframe\">\n",
       "  <thead>\n",
       "    <tr style=\"text-align: right;\">\n",
       "      <th></th>\n",
       "      <th>month</th>\n",
       "      <th>NEWS</th>\n",
       "    </tr>\n",
       "  </thead>\n",
       "  <tbody>\n",
       "    <tr>\n",
       "      <th>0</th>\n",
       "      <td>June</td>\n",
       "      <td>[baseload, bond, buy, click, company, gaspool,...</td>\n",
       "    </tr>\n",
       "  </tbody>\n",
       "</table>\n",
       "</div>"
      ],
      "text/plain": [
       "  month                                               NEWS\n",
       "0  June  [baseload, bond, buy, click, company, gaspool,..."
      ]
     },
     "execution_count": 42,
     "metadata": {},
     "output_type": "execute_result"
    }
   ],
   "source": [
    "df_month_trending.head()"
   ]
  },
  {
   "cell_type": "code",
   "execution_count": 45,
   "metadata": {},
   "outputs": [
    {
     "name": "stdout",
     "output_type": "stream",
     "text": [
      "Time taken to run the whole notebook is 6:37:13.464236\n"
     ]
    }
   ],
   "source": [
    "# Convert seconds\n",
    "import datetime\n",
    "\n",
    "end = time.time()\n",
    "run_time = end - start\n",
    "print(f'Time taken to run the whole notebook is {str(datetime.timedelta(seconds=run_time))}')"
   ]
  },
  {
   "cell_type": "markdown",
   "metadata": {},
   "source": [
    "## Conclusion"
   ]
  },
  {
   "cell_type": "markdown",
   "metadata": {},
   "source": [
    "From the initial research and run, we could find the top 20 trending words in each spectrum, and we could see still many trivial words are showing up after including STOP WORDS in the English language. Here comes the domain expert's role in analyzing those trending words, figuring out those familiar words, and adding them to stop words for the next run. With this iterative approach, we can improve the efficiency of this process.\n",
    "\n",
    "For now, we have explicitly used built-in and user-defined functions in cleaning and preprocessing. This can be tedious and needs some tuning and manual run when a new and different dataset comes in. We need to implement Pipelines and construct it in a way each dataset goes through a definite set of processes automatically and creates output files in each instance of the lifecycle.\n",
    "\n",
    "For this project, we have set the trending word limit as the top 20 in each spectrum, and this can be easily modified by passing different arguments to the method. For now, we have used individual words. Based on the need, we can increase the tendency to pick 2-3 word combination (bigram, trigram) to give actual meaning to the trending news like \"presidential election results\" being a trending topic worldwide during this month. Likewise, the output can be formed using a Mentimeter with live clouds where the representation can be more visualized and interactive. We have not done this part inorder to decrease this runtime for project submission. If needed just by increasing the n_grams value from 1 to 3 this can be achieved.We are creating individual output files in each spectrum thereby it will serve the purpose of sharing easy."
   ]
  }
 ],
 "metadata": {
  "kernelspec": {
   "display_name": "Python 3",
   "language": "python",
   "name": "python3"
  },
  "language_info": {
   "codemirror_mode": {
    "name": "ipython",
    "version": 3
   },
   "file_extension": ".py",
   "mimetype": "text/x-python",
   "name": "python",
   "nbconvert_exporter": "python",
   "pygments_lexer": "ipython3",
   "version": "3.8.3"
  }
 },
 "nbformat": 4,
 "nbformat_minor": 4
}
